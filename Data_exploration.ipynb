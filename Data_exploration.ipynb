{
 "cells": [
  {
   "cell_type": "markdown",
   "metadata": {},
   "source": [
    "# Data Exploration\n",
    "## Objectives\n",
    "* Use Alpha API to collect relevant stock data\n",
    "* Save all data into a single csv table\n",
    "* Automate data collection"
   ]
  },
  {
   "cell_type": "code",
   "execution_count": 1,
   "metadata": {},
   "outputs": [],
   "source": [
    "import requests \n",
    "import pandas as pd\n",
    "import json\n",
    "import numpy as np\n"
   ]
  },
  {
   "cell_type": "code",
   "execution_count": null,
   "metadata": {},
   "outputs": [],
   "source": []
  },
  {
   "cell_type": "code",
   "execution_count": null,
   "metadata": {},
   "outputs": [],
   "source": []
  },
  {
   "cell_type": "code",
   "execution_count": null,
   "metadata": {},
   "outputs": [],
   "source": []
  },
  {
   "cell_type": "code",
   "execution_count": null,
   "metadata": {},
   "outputs": [],
   "source": []
  },
  {
   "cell_type": "code",
   "execution_count": null,
   "metadata": {},
   "outputs": [],
   "source": []
  },
  {
   "cell_type": "code",
   "execution_count": null,
   "metadata": {},
   "outputs": [],
   "source": []
  },
  {
   "cell_type": "code",
   "execution_count": 90,
   "metadata": {},
   "outputs": [],
   "source": [
    "class stock:\n",
    "    def __init__(self, stock): \n",
    "        self.stock = stock\n",
    "        self.yahoo_call = 0\n",
    "        self.alpha_call = 0\n",
    "        pass\n",
    "    def get_prices(self):\n",
    "        self.alpha_call +=1\n",
    "        url = \"https://alpha-vantage.p.rapidapi.com/query\"\n",
    "\n",
    "        querystring = {\"interval\":\"5min\",\"function\":\"TIME_SERIES_INTRADAY\",\"symbol\":self.stock,\"datatype\":\"json\",\"output_size\":\"compact\"}\n",
    "\n",
    "        headers = {\n",
    "            'x-rapidapi-key': \"4d83c30c33msh6c95f295970c8eep1bfc57jsn67c28d5a17a2\",\n",
    "            'x-rapidapi-host': \"alpha-vantage.p.rapidapi.com\"\n",
    "            }\n",
    "\n",
    "        response = requests.request(\"GET\", url, headers=headers, params=querystring)\n",
    "        data = json.loads(response.text)\n",
    "        price_df = pd.DataFrame.from_dict(data['Time Series (5min)'], orient='index')\n",
    "        price_df.index = pd.to_datetime(price_df.index)\n",
    "        self.price_df = price_df\n",
    "        \n",
    "    def get_sma(self):\n",
    "        self.alpha_call += 1\n",
    "        url = \"https://alpha-vantage.p.rapidapi.com/query\"\n",
    "\n",
    "        querystring = {\"interval\":\"5min\",\"series_type\":\"close\",\"function\":\"SMA\",\"symbol\":self.stock,\"time_period\":\"60\",\"datatype\":\"json\"}\n",
    "\n",
    "        headers = {\n",
    "        'x-rapidapi-key': \"4d83c30c33msh6c95f295970c8eep1bfc57jsn67c28d5a17a2\",\n",
    "        'x-rapidapi-host': \"alpha-vantage.p.rapidapi.com\"\n",
    "        }\n",
    "\n",
    "        response = requests.request(\"GET\", url, headers=headers, params=querystring)\n",
    "        data = json.loads(response.text)\n",
    "        sma_df = pd.DataFrame.from_dict(data[\"Technical Analysis: SMA\"], orient='index')\n",
    "        sma_df.index = pd.to_datetime(sma_df.index)\n",
    "        self.sma_df = sma_df\n",
    "    \n",
    "    def get_balance_sheet(self):\n",
    "        self.yahoo_call += 1\n",
    "        url = \"https://yahoo-finance15.p.rapidapi.com/api/yahoo/qu/quote/\" + self.stock + \"/balance-sheet\"\n",
    "\n",
    "        headers = {\n",
    "            'x-rapidapi-key': \"4d83c30c33msh6c95f295970c8eep1bfc57jsn67c28d5a17a2\",\n",
    "            'x-rapidapi-host': \"yahoo-finance15.p.rapidapi.com\"\n",
    "            }\n",
    "\n",
    "        response = requests.request(\"GET\", url, headers=headers)\n",
    "        data = json.loads(response.text)\n",
    "        self.balance_sheet_df = pd.DataFrame.from_dict(data['balanceSheetHistory']['balanceSheetStatements'][0])\n",
    "        self.balance_sheet_df = self.balance_sheet_df.drop(['fmt', 'longFmt'], axis=0)\n",
    "    \n",
    "    def get_cash_flow(self):\n",
    "        self.yahoo_call += 1\n",
    "        url = \"https://yahoo-finance15.p.rapidapi.com/api/yahoo/qu/quote/\" + self.stock + \"/cashflow-statement\"\n",
    "\n",
    "        headers = {\n",
    "            'x-rapidapi-key': \"4d83c30c33msh6c95f295970c8eep1bfc57jsn67c28d5a17a2\",\n",
    "            'x-rapidapi-host': \"yahoo-finance15.p.rapidapi.com\"\n",
    "            }\n",
    "\n",
    "        response = requests.request(\"GET\", url, headers=headers)\n",
    "        \n",
    "        data = json.loads(response.text)\n",
    "        \n",
    "        df = None\n",
    "        for i in range(len(data['cashflowStatementHistory']['cashflowStatements'])):\n",
    "            new_df = pd.DataFrame.from_dict(data['cashflowStatementHistory']['cashflowStatements'][i])\n",
    "            if (new_df.index == 'fmt').any():\n",
    "                new_df = new_df.drop(['fmt', 'longFmt'], axis=0)\n",
    "                new_df = new_df.drop(['endDate', 'maxAge'], axis=1)\n",
    "            if df is not None:\n",
    "                df = pd.concat([df, new_df])\n",
    "            else: \n",
    "                df = new_df\n",
    "            \n",
    "        self.cash_flow_df =  pd.DataFrame(df.apply(np.mean, axis=0)).T\n",
    "        \n",
    "    def get_data(self):\n",
    "        self.get_prices()\n",
    "        self.get_sma()\n",
    "        self.get_balance_sheet()\n",
    "        self.get_cash_flow()\n",
    "\n",
    "\n",
    "        self.merge1 = self.price_df.merge(self.sma_df, left_index=True, right_index=True)\n",
    "\n",
    "        merge2 = self.balance_sheet_df.append(self.sma_df)\n",
    "        merge2 = merge2.fillna(method='ffill')\n",
    "        self.merge2 = merge2.drop('raw', axis=0)\n",
    "        \n",
    "        self.merge1['datetime'] = self.merge1.index\n",
    "        sizeof = len(self.merge1)\n",
    "        self.merge1.insert(1, \"new_index\", np.arange(sizeof))\n",
    "        self.merge1 = self.merge1.set_index('new_index', drop=True)\n",
    "        \n",
    "        df = pd.DataFrame(data=self.merge2.tail(1), index=np.arange(100-1))\n",
    "        df = df.append(self.merge2.tail(1))\n",
    "        df = df.fillna(method='bfill')\n",
    "        self.full_data = pd.merge(df, self.merge1)\n",
    "        return self.full_data\n",
    "\n"
   ]
  },
  {
   "cell_type": "code",
   "execution_count": null,
   "metadata": {},
   "outputs": [],
   "source": []
  },
  {
   "cell_type": "raw",
   "metadata": {},
   "source": []
  },
  {
   "cell_type": "code",
   "execution_count": null,
   "metadata": {},
   "outputs": [],
   "source": []
  },
  {
   "cell_type": "code",
   "execution_count": null,
   "metadata": {},
   "outputs": [],
   "source": []
  },
  {
   "cell_type": "code",
   "execution_count": null,
   "metadata": {},
   "outputs": [],
   "source": []
  },
  {
   "cell_type": "code",
   "execution_count": null,
   "metadata": {},
   "outputs": [],
   "source": []
  },
  {
   "cell_type": "code",
   "execution_count": null,
   "metadata": {},
   "outputs": [],
   "source": []
  },
  {
   "cell_type": "code",
   "execution_count": null,
   "metadata": {},
   "outputs": [],
   "source": []
  },
  {
   "cell_type": "code",
   "execution_count": null,
   "metadata": {},
   "outputs": [],
   "source": []
  },
  {
   "cell_type": "code",
   "execution_count": null,
   "metadata": {},
   "outputs": [],
   "source": []
  },
  {
   "cell_type": "code",
   "execution_count": null,
   "metadata": {},
   "outputs": [],
   "source": []
  },
  {
   "cell_type": "markdown",
   "metadata": {},
   "source": [
    "* Take the size of the 5 minute intervals\n",
    "* Take last of the merge2\n",
    "* extend merge2 dataframe to size of merge1\n",
    "* join.\n",
    "\n",
    "== always 100"
   ]
  },
  {
   "cell_type": "code",
   "execution_count": 82,
   "metadata": {},
   "outputs": [],
   "source": []
  },
  {
   "cell_type": "code",
   "execution_count": null,
   "metadata": {},
   "outputs": [],
   "source": []
  },
  {
   "cell_type": "code",
   "execution_count": null,
   "metadata": {},
   "outputs": [],
   "source": []
  },
  {
   "cell_type": "code",
   "execution_count": null,
   "metadata": {},
   "outputs": [],
   "source": []
  },
  {
   "cell_type": "code",
   "execution_count": null,
   "metadata": {},
   "outputs": [],
   "source": []
  },
  {
   "cell_type": "code",
   "execution_count": null,
   "metadata": {},
   "outputs": [],
   "source": []
  },
  {
   "cell_type": "code",
   "execution_count": null,
   "metadata": {},
   "outputs": [],
   "source": []
  },
  {
   "cell_type": "code",
   "execution_count": null,
   "metadata": {},
   "outputs": [],
   "source": []
  }
 ],
 "metadata": {
  "kernelspec": {
   "display_name": "tensorflow",
   "language": "python",
   "name": "tensorflow"
  },
  "language_info": {
   "codemirror_mode": {
    "name": "ipython",
    "version": 3
   },
   "file_extension": ".py",
   "mimetype": "text/x-python",
   "name": "python",
   "nbconvert_exporter": "python",
   "pygments_lexer": "ipython3",
   "version": "3.5.6"
  }
 },
 "nbformat": 4,
 "nbformat_minor": 4
}
